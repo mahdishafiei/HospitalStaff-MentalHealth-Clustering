{
  "cells": [
    {
      "cell_type": "markdown",
      "metadata": {},
      "source": [
        "# Exploratory Analysis (GHQ-28 & KMeans)\n",
        "This notebook demonstrates the Elbow method and KMeans clustering with `k=3` on GHQ-28 style data.\n"
      ]
    },
    {
      "cell_type": "code",
      "execution_count": null,
      "metadata": {},
      "outputs": [],
      "source": [
        "import pandas as pd\n",
        "import numpy as np\n",
        "from sklearn.cluster import KMeans\n",
        "import matplotlib.pyplot as plt\n",
        "from pathlib import Path\n",
        "\n",
        "data_path = Path('../../data/ghq28_responses.csv')\n",
        "if data_path.exists():\n",
        "    df = pd.read_csv(data_path)\n",
        "else:\n",
        "    # Synthetic fallback matching expected schema\n",
        "    np.random.seed(42)\n",
        "    n = 200\n",
        "    ghq = pd.DataFrame({f'ghq{i}': np.random.randint(0,4,size=n) for i in range(1,29)})\n",
        "    df = ghq\n",
        "\n",
        "ghq_cols = [f'ghq{i}' for i in range(1,29)]\n",
        "X = df[ghq_cols].to_numpy()\n",
        "\n",
        "# Elbow method\n",
        "wss = []\n",
        "K = range(1,11)\n",
        "for k in K:\n",
        "    km = KMeans(n_clusters=k, n_init=10, random_state=123).fit(X)\n",
        "    wss.append(km.inertia_)\n",
        "\n",
        "plt.figure()\n",
        "plt.plot(list(K), wss, marker='o')\n",
        "plt.title('Elbow Method')\n",
        "plt.xlabel('Number of clusters')\n",
        "plt.ylabel('Within-cluster sum of squares')\n",
        "plt.show()\n",
        "\n",
        "# KMeans with k=3\n",
        "km3 = KMeans(n_clusters=3, n_init=50, random_state=123).fit(X)\n",
        "labels = km3.labels_\n",
        "df['cluster'] = labels + 1\n",
        "df['ghq_total'] = df[ghq_cols].sum(axis=1)\n",
        "df.groupby('cluster')['ghq_total'].mean()\n"
      ]
    },
    {
      "cell_type": "code",
      "execution_count": null,
      "metadata": {},
      "outputs": [],
      "source": []
    }
  ],
  "metadata": {
    "language_info": {
      "name": "python"
    }
  },
  "nbformat": 4,
  "nbformat_minor": 2
}
